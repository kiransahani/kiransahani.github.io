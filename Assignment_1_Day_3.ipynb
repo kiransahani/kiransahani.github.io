{
  "nbformat": 4,
  "nbformat_minor": 0,
  "metadata": {
    "colab": {
      "provenance": [],
      "authorship_tag": "ABX9TyMASn+KS9qeIQiyO3zkDBgW",
      "include_colab_link": true
    },
    "kernelspec": {
      "name": "python3",
      "display_name": "Python 3"
    },
    "language_info": {
      "name": "python"
    }
  },
  "cells": [
    {
      "cell_type": "markdown",
      "metadata": {
        "id": "view-in-github",
        "colab_type": "text"
      },
      "source": [
        "<a href=\"https://colab.research.google.com/github/kiransahani/kiransahani.github.io/blob/main/Assignment_1_Day_3.ipynb\" target=\"_parent\"><img src=\"https://colab.research.google.com/assets/colab-badge.svg\" alt=\"Open In Colab\"/></a>"
      ]
    },
    {
      "cell_type": "code",
      "execution_count": null,
      "metadata": {
        "colab": {
          "base_uri": "https://localhost:8080/"
        },
        "id": "3YWy50NYeqVd",
        "outputId": "27efecfb-d8d6-461d-cbc6-71f416a27f98"
      },
      "outputs": [
        {
          "output_type": "stream",
          "name": "stdout",
          "text": [
            "!uoY knahT .noitacilppA retupmoC htiw mocb yT ni gniyduts yltnerruc i dna iabmum morf inahaS nariK ma I  ,olleH\n"
          ]
        }
      ],
      "source": [
        "def my_function(a):\n",
        "  return a[::-1]\n",
        "\n",
        "mytxt = my_function(\"Hello,  I am Kiran Sahani from mumbai and i currently studying in Ty bcom with Computer Application. Thank You!\")\n",
        "\n",
        "print(mytxt)\n"
      ]
    },
    {
      "cell_type": "code",
      "source": [],
      "metadata": {
        "id": "Ix09p7whevDY"
      },
      "execution_count": null,
      "outputs": []
    }
  ]
}