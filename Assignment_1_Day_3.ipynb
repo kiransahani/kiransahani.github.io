{
  "nbformat": 4,
  "nbformat_minor": 0,
  "metadata": {
    "colab": {
      "provenance": [],
      "authorship_tag": "ABX9TyPhZ+PNDo1lmdgHO+bCbJdh",
      "include_colab_link": true
    },
    "kernelspec": {
      "name": "python3",
      "display_name": "Python 3"
    },
    "language_info": {
      "name": "python"
    }
  },
  "cells": [
    {
      "cell_type": "markdown",
      "metadata": {
        "id": "view-in-github",
        "colab_type": "text"
      },
      "source": [
        "<a href=\"https://colab.research.google.com/github/kiransahani/kiransahani.github.io/blob/main/Assignment_1_Day_3.ipynb\" target=\"_parent\"><img src=\"https://colab.research.google.com/assets/colab-badge.svg\" alt=\"Open In Colab\"/></a>"
      ]
    },
    {
      "cell_type": "code",
      "execution_count": 4,
      "metadata": {
        "colab": {
          "base_uri": "https://localhost:8080/"
        },
        "id": "3YWy50NYeqVd",
        "outputId": "cd2a6fb8-6207-442b-86e1-5a18e4abcb57"
      },
      "outputs": [
        {
          "output_type": "stream",
          "name": "stdout",
          "text": [
            "edargpusteL\n"
          ]
        }
      ],
      "source": [
        "def my_function(a):\n",
        "  return a[::-1]\n",
        "\n",
        "mytxt = my_function(\"Letsupgrade\")\n",
        "print(mytxt)\n"
      ]
    },
    {
      "cell_type": "code",
      "source": [],
      "metadata": {
        "id": "Ix09p7whevDY"
      },
      "execution_count": null,
      "outputs": []
    }
  ]
}